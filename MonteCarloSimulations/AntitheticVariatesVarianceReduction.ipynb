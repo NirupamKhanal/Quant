{
 "cells": [
  {
   "cell_type": "code",
   "execution_count": 1,
   "id": "67afc1ef",
   "metadata": {},
   "outputs": [],
   "source": [
    "import math\n",
    "import numpy as np\n",
    "import pandas as pd\n",
    "import datetime\n",
    "import scipy.stats as stats\n",
    "import matplotlib.pyplot as plt "
   ]
  },
  {
   "cell_type": "code",
   "execution_count": 4,
   "id": "7a6fdf43",
   "metadata": {},
   "outputs": [],
   "source": [
    "import time\n",
    "\n",
    "def tic():\n",
    "    global start_time\n",
    "    start_time = time.time()\n",
    "\n",
    "def toc():\n",
    "    if 'start_time' in globals():\n",
    "        end_time = time.time()\n",
    "        elapsed_time = end_time - start_time\n",
    "        print(f\"Elapsed time: {elapsed_time} seconds\")\n",
    "    else:\n",
    "        print(\"Tic function has not been called yet.\")"
   ]
  },
  {
   "cell_type": "markdown",
   "id": "75fbeb33",
   "metadata": {},
   "source": [
    "# Antithetic Variates \n",
    "\n",
    "## Underlying principle \n",
    "\n",
    "If we want to estimate $\\theta = \\mathbb{E}(h(X)) = \\mathbb{E}(Y)$ and we have two samples $Y_{1}, Y_{2}$:\n",
    "\n",
    "$\\hat{\\theta} = \\frac{Y_{1}+Y_{2}}{2}$ \n",
    "\n",
    "$Var(\\hat{\\theta}) = \\frac{Var(Y_{1})+Var(Y_{2})+2Cov(Y_{1},Y_{2})}{4}$\n",
    "\n",
    "Hence, variance is reduced if $Cov(Y_{1},Y_{2})$ is negative. \n",
    "\n",
    "When the price volatility of two assets are identical, variance is maximally reduced: \n",
    "\n",
    "$dS_{1,t} = rdS_{1,t}dt + \\sigma dS_{1,t}dz_{t}$\n",
    "\n",
    "$dS_{2,t} = rdS_{2,t}dt - \\sigma dS_{2,t}dz_{t}$\n",
    "\n",
    "## Implementation \n",
    "\n",
    "We create a hypothetical asset which is perfectly negatively correlated with the original asset, giving us the following: \n",
    "\n",
    "$S_{t+\\Delta t} = S_{t} e^{v\\Delta t + \\sigma(z_{t+\\Delta t} - z_{t})}$, where $(z_{t+\\Delta t} - z{t}) \\sim N(0,\\Delta t) \\sim \\sqrt{\\Delta t}N(0,1)\\sim\\sqrt{\\Delta t}\\epsilon_{i}$\n",
    "\n",
    "### Contract Simulation \n",
    "\n",
    "- $C_{T,i} = \\max{(0, Se^{v\\Delta t + \\sigma\\sqrt{T}(\\epsilon_{i})}-K)}$\n",
    "\n",
    "- $C_{T,i} = \\max{(0, Se^{v\\Delta t + \\sigma\\sqrt{T}(-\\epsilon_{i})}-K)}$"
   ]
  },
  {
   "cell_type": "code",
   "execution_count": 16,
   "id": "82728fb9",
   "metadata": {},
   "outputs": [
    {
     "name": "stdout",
     "output_type": "stream",
     "text": [
      "0.16712328767123288\n"
     ]
    }
   ],
   "source": [
    "S = 101.15 # stock price\n",
    "K = 98.01 # strike price\n",
    "vol = 0.0991 # volatility (%)\n",
    "r = 0.015 # risk-free rate (%)\n",
    "N = 10 # number of time steps \n",
    "M = 100 # number of simulations\n",
    "\n",
    "market_value = 3.86 # market price of the option \n",
    "T = ((datetime.date(2024,3,17) - datetime.date(2024,1,17)).days+1)/365 # time in years\n",
    "print(T)"
   ]
  },
  {
   "cell_type": "markdown",
   "id": "a8b721d8",
   "metadata": {},
   "source": [
    "## Slow solution"
   ]
  },
  {
   "cell_type": "code",
   "execution_count": 17,
   "id": "02ec9f63",
   "metadata": {},
   "outputs": [
    {
     "name": "stdout",
     "output_type": "stream",
     "text": [
      "Call value is $3.83 with SE +/- 0.09\n",
      "Elapsed time: 2.0061419010162354 seconds\n"
     ]
    }
   ],
   "source": [
    "tic()\n",
    "# Precomputing constants \n",
    "dt = T/N\n",
    "nudt = (r - 0.5*vol**2)*dt\n",
    "volsdt = vol*np.sqrt(dt)\n",
    "lnS = np.log(S)\n",
    "\n",
    "# Standard Error parameters\n",
    "sum_CT = 0\n",
    "sum_CT2 = 0\n",
    "\n",
    "# MC method \n",
    "for i in range(M):\n",
    "    lnSt1 = lnS\n",
    "    lnSt2 = lnS\n",
    "    for j in range(N):\n",
    "        epsilon = np.random.normal()\n",
    "        lnSt1 = lnSt1 + nudt + volsdt*epsilon\n",
    "        lnSt2 = lnSt2 + nudt - volsdt*epsilon\n",
    "        \n",
    "    ST1 = np.exp(lnSt1)\n",
    "    ST2 = np.exp(lnSt2)\n",
    "    CT = 0.5 * (max(0, ST1 - K) + max(0, ST2 - K))\n",
    "    sum_CT += CT\n",
    "    sum_CT2 += CT**2\n",
    "    \n",
    "# Computing expectation and SE\n",
    "C0 = np.exp(-r*T)*sum_CT/M\n",
    "sigma = np.sqrt((sum_CT2 - sum_CT*sum_CT/M)*np.exp(-2*r*T) / (M-1))\n",
    "SE = sigma/np.sqrt(M)\n",
    "\n",
    "print(\"Call value is ${0} with SE +/- {1}\".format(np.round(C0,2),np.round(SE,2)))\n",
    "time.sleep(2)\n",
    "toc()"
   ]
  },
  {
   "cell_type": "markdown",
   "id": "13256c2b",
   "metadata": {},
   "source": [
    "## Vectorization for fast solution "
   ]
  },
  {
   "cell_type": "code",
   "execution_count": 18,
   "id": "6705d7de",
   "metadata": {},
   "outputs": [
    {
     "name": "stdout",
     "output_type": "stream",
     "text": [
      "Call value is $3.91 with SE +/- 0.09\n",
      "Elapsed time: 2.0052847862243652 seconds\n"
     ]
    }
   ],
   "source": [
    "tic()\n",
    "# Precomputing constants\n",
    "N = 1\n",
    "dt = T/N\n",
    "nudt = (r - 0.5*vol**2)*dt\n",
    "volsdt = vol*np.sqrt(dt)\n",
    "lnS = np.log(S)\n",
    "\n",
    "# MC Method\n",
    "Z = np.random.normal(size=(N, M))\n",
    "delta_lnSt1 = nudt + volsdt*Z\n",
    "delta_lnSt2 = nudt - volsdt*Z\n",
    "lnSt1 = lnS + np.cumsum(delta_lnSt1, axis=0)\n",
    "lnSt2 = lnS + np.cumsum(delta_lnSt2, axis=0)\n",
    "\n",
    "# Computing Expectation and SE\n",
    "ST1 = np.exp(lnSt1)\n",
    "ST2 = np.exp(lnSt2)\n",
    "CT = 0.5 * ( np.maximum(0, ST1[-1] - K) + np.maximum(0, ST2[-1] - K) )\n",
    "C0 = np.exp(-r*T)*np.sum(CT)/M\n",
    "\n",
    "sigma = np.sqrt( np.sum( (CT - C0)**2) / (M-1) )\n",
    "SE = sigma/np.sqrt(M)\n",
    "\n",
    "print(\"Call value is ${0} with SE +/- {1}\".format(np.round(C0,2),np.round(SE,2)))\n",
    "time.sleep(2)\n",
    "toc()"
   ]
  },
  {
   "cell_type": "markdown",
   "id": "0cf3082b",
   "metadata": {},
   "source": [
    "### Comparison without Antithetic Variate"
   ]
  },
  {
   "cell_type": "code",
   "execution_count": 19,
   "id": "50cf4bca",
   "metadata": {},
   "outputs": [
    {
     "name": "stdout",
     "output_type": "stream",
     "text": [
      "Call value is $3.91 with SE +/- 0.09\n",
      "Elapsed time: 2.0057270526885986 seconds\n"
     ]
    }
   ],
   "source": [
    "tic()\n",
    "#precompute constants\n",
    "N = 1\n",
    "dt = T/N\n",
    "nudt = (r - 0.5*vol**2)*dt\n",
    "volsdt = vol*np.sqrt(dt)\n",
    "lnS = np.log(S)\n",
    "\n",
    "# Monte Carlo Method\n",
    "Z = np.random.normal(size=(N, M))\n",
    "delta_lnSt = nudt + volsdt*Z\n",
    "lnSt = lnS + np.cumsum(delta_lnSt, axis=0)\n",
    "lnSt = np.concatenate( (np.full(shape=(1, M), fill_value=lnS), lnSt ) )\n",
    "\n",
    "# Compute Expectation and SE\n",
    "ST = np.exp(lnSt)\n",
    "CT = np.maximum(0, ST - K)\n",
    "C0w = np.exp(-r*T)*np.sum(CT[-1])/M\n",
    "\n",
    "sigma = np.sqrt( np.sum( (CT[-1] - C0)**2) / (M-1) )\n",
    "SEw = sigma/np.sqrt(M)\n",
    "\n",
    "print(\"Call value is ${0} with SE +/- {1}\".format(np.round(C0,2),np.round(SE,2)))\n",
    "time.sleep(2)\n",
    "toc()"
   ]
  },
  {
   "cell_type": "markdown",
   "id": "af89a472",
   "metadata": {},
   "source": [
    "## Visualization of convergence"
   ]
  },
  {
   "cell_type": "code",
   "execution_count": 20,
   "id": "7aa49934",
   "metadata": {},
   "outputs": [
    {
     "data": {
      "image/png": "[encoded data removed]",
      "text/plain": [
       "<Figure size 640x480 with 1 Axes>"
      ]
     },
     "metadata": {},
     "output_type": "display_data"
    }
   ],
   "source": [
    "x1 = np.linspace(C0-3*SE, C0-1*SE, 100)\n",
    "x2 = np.linspace(C0-1*SE, C0+1*SE, 100)\n",
    "x3 = np.linspace(C0+1*SE, C0+3*SE, 100)\n",
    "xw = np.linspace(C0w-3*SEw, C0w+3*SEw, 100)\n",
    "\n",
    "s1 = stats.norm.pdf(x1, C0, SE)\n",
    "s2 = stats.norm.pdf(x2, C0, SE)\n",
    "s3 = stats.norm.pdf(x3, C0, SE)\n",
    "sw = stats.norm.pdf(xw, C0w, SEw)\n",
    "\n",
    "plt.fill_between(x1, s1, color='tab:blue',label='> StDev')\n",
    "plt.fill_between(x2, s2, color='cornflowerblue',label='1 StDev')\n",
    "plt.fill_between(x3, s3, color='tab:blue')\n",
    "plt.plot(xw, sw, 'g-')\n",
    "plt.fill_between(xw, sw, alpha=0.2, color='tab:green', label='w/o Antithetic')\n",
    "\n",
    "plt.plot([C0,C0],[0, max(s2)*1.1], 'k',\n",
    "        label='Theoretical Value')\n",
    "plt.plot([C0w,C0w],[0, max(s2)*1.1], color='tab:green',\n",
    "        label='Value w/o Antithetic')\n",
    "plt.plot([market_value,market_value],[0, max(s2)*1.1], 'r',\n",
    "        label='Market Value')\n",
    "\n",
    "plt.ylabel(\"Probability\")\n",
    "plt.xlabel(\"Option Price\")\n",
    "plt.legend()\n",
    "plt.show()"
   ]
  }
 ],
 "metadata": {
  "kernelspec": {
   "display_name": "Python 3 (ipykernel)",
   "language": "python",
   "name": "python3"
  },
  "language_info": {
   "codemirror_mode": {
    "name": "ipython",
    "version": 3
   },
   "file_extension": ".py",
   "mimetype": "text/x-python",
   "name": "python",
   "nbconvert_exporter": "python",
   "pygments_lexer": "ipython3",
   "version": "3.11.7"
  }
 },
 "nbformat": 4,
 "nbformat_minor": 5
}
