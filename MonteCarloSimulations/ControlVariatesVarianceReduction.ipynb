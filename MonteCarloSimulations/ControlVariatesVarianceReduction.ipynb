{
 "cells": [
  {
   "cell_type": "code",
   "execution_count": 1,
   "id": "9dfa97ec",
   "metadata": {},
   "outputs": [
    {
     "name": "stderr",
     "output_type": "stream",
     "text": [
      "python(53751) MallocStackLogging: can't turn off malloc stack logging because it was not enabled.\n"
     ]
    }
   ],
   "source": [
    "import math\n",
    "import numpy as np\n",
    "import pandas as pd\n",
    "import datetime \n",
    "import scipy.stats as stats\n",
    "import matplotlib.pyplot as plt \n",
    "from py_vollib.black_scholes.implied_volatility import implied_volatility as iv \n",
    "from py_vollib.black_scholes import black_scholes as bs\n",
    "from py_vollib.black_scholes.greeks.analytical import vega, delta "
   ]
  },
  {
   "cell_type": "code",
   "execution_count": 3,
   "id": "07115353",
   "metadata": {},
   "outputs": [],
   "source": [
    "import time\n",
    "\n",
    "def tic():\n",
    "    global start_time\n",
    "    start_time = time.time()\n",
    "\n",
    "def toc():\n",
    "    if 'start_time' in globals():\n",
    "        end_time = time.time()\n",
    "        elapsed_time = end_time - start_time\n",
    "        print(f\"Elapsed time: {elapsed_time} seconds\")\n",
    "    else:\n",
    "        print(\"Tic function has not been called yet.\")"
   ]
  },
  {
   "cell_type": "markdown",
   "id": "b7759673",
   "metadata": {},
   "source": [
    "# Control Variates and Hedging \n",
    "\n",
    "## General Control Variates Equation\n",
    "\n",
    "$C_{0} e^{rT} = C_{T} - \\sum_{i=j}^{J} \\beta_{j}cv_{j}+\\eta$\n",
    "\n",
    "where $\\beta_{j}$ are linear factors coefficients and $\\eta$ accounts for errors in the approximation.\n",
    "\n",
    "### Delta Hedging\n",
    "\n",
    "$ C_{t_{0}} e^{rT} - \\sum_{i=0}^{N} \\left[\\left(\\frac{\\sigma C_{t_{i}}}{\\sigma S} - \\frac{\\sigma C_{t_{i-1}}}{\\sigma S}\\right) S_{t} e^{r(T-t_{i})}\\right] = C_{T} + \\eta $\n",
    "\n",
    "$\\implies C_{t_{0}} e^{rT} = C_{T} - \\left[\\sum_{i=0}^{N-1} \\frac{\\sigma C_{t_{i}}}{\\Delta S} \\left(S_{t_{i+1}} - S_{t_{i}} e^{r\\sigma t}\\right)e^{r(T-t_{i+1})}\\right] + \\eta$\n",
    "\n",
    "Here, the delta hedge is a delta-based martingale control variate ($cv_{1}$): \n",
    "$cv_{1} = \\sum_{i=0}^{N-1} \\frac{\\sigma C_{t_{i}}}{\\sigma S} \\left(S_{t_{i+1}} - \\mathbb{E}[S_{t_{i}}] \\right) e^{r(T-t_{i+1})} $\n",
    "\n",
    "$C_{t_{0}}e^{rT} = C_{T} - cv_{1} + \\eta$\n",
    "\n",
    "### Gamma Hedging\n",
    "\n",
    "We can introduce another gamma-based martingale control variate ($cv_{2}$):\n",
    "$cv_{2} = \\sum_{i=0}^{N-1} \\frac{\\sigma^{2}C_{t_{i}}}{\\sigma S^{2}}\\left((\\Delta S_{t_{i+1}})^{2} - \\mathbb{E} \\left[(\\Delta S_{t_{i}})^{2}\\right] \\right) e^{r(T-t_{i+1})}$\n",
    "\n",
    "where $\\mathbb{E} \\left[(\\Delta S_{t_{i}})^{2}\\right] = S_{t_{i}}^{2} (e^{\\left[2r + \\sigma^{2}\\right]\\Delta t_{i}} - 2e^{r\\Delta t_{i}} + 1 ) $"
   ]
  },
  {
   "cell_type": "code",
   "execution_count": 19,
   "id": "5bf30943",
   "metadata": {},
   "outputs": [
    {
     "name": "stdout",
     "output_type": "stream",
     "text": [
      "0.336986301369863\n"
     ]
    }
   ],
   "source": [
    "# Demonstrating implementation of delta-based control variates\n",
    "\n",
    "S = 101.15 # stock price\n",
    "K = 98.01 # strike price\n",
    "vol = 0.0991 # volatility (%)\n",
    "r = 0.015 # risk-free rate (%)\n",
    "N = 10 # number of time steps\n",
    "M = 10 # number of simulations\n",
    "\n",
    "market_value = 3.86 # market price of option \n",
    "T = ((datetime.date(2024,10,18) - datetime.date(2024,6,18)).days + 1)/365 # time in years\n",
    "print(T)"
   ]
  },
  {
   "cell_type": "markdown",
   "id": "9804432d",
   "metadata": {},
   "source": [
    "### Slow solution "
   ]
  },
  {
   "cell_type": "code",
   "execution_count": 20,
   "id": "a5acfe84",
   "metadata": {},
   "outputs": [
    {
     "name": "stdout",
     "output_type": "stream",
     "text": [
      "Call value is $4.37 with SE +/- 0.199\n",
      "Elapsed time: 2.009161949157715 seconds\n"
     ]
    }
   ],
   "source": [
    "tic() \n",
    "# Precomputing constants \n",
    "N = 10\n",
    "dt = T/N\n",
    "nudt = (r - 0.5*vol**2)*dt\n",
    "volsdt = vol*np.sqrt(dt)\n",
    "erdt = np.exp(r*dt)\n",
    "\n",
    "beta1 = -1\n",
    "\n",
    "# Standard Error\n",
    "sum_CT = 0\n",
    "sum_CT2 = 0\n",
    "\n",
    "# MC Method\n",
    "for i in range(M):\n",
    "    St = S\n",
    "    cv = 0\n",
    "    for j in range(N):\n",
    "        epsilon = np.random.normal()\n",
    "        deltaSt = delta('c', St, K, T-j*dt, r, vol)\n",
    "        Stn = St*np.exp(nudt + volsdt*epsilon )\n",
    "        cv = cv + deltaSt*(Stn - St*erdt)\n",
    "        St = Stn\n",
    "\n",
    "    CT = max(0, St - K) + beta1*cv\n",
    "    sum_CT = sum_CT + CT\n",
    "    sum_CT2 = sum_CT2 + CT*CT\n",
    "\n",
    "# Computing Expectation and SE\n",
    "C0 = np.exp(-r*T)*sum_CT/M\n",
    "sigma = np.sqrt( (sum_CT2 - sum_CT*sum_CT/M)*np.exp(-2*r*T) / (M-1) )\n",
    "SE = sigma/np.sqrt(M)\n",
    "\n",
    "print(\"Call value is ${0} with SE +/- {1}\".format(np.round(C0,2),np.round(SE,3)))\n",
    "time.sleep(2)\n",
    "toc()"
   ]
  },
  {
   "cell_type": "markdown",
   "id": "1bd3eceb",
   "metadata": {},
   "source": [
    "### Vectorization for fast solution"
   ]
  },
  {
   "cell_type": "code",
   "execution_count": 21,
   "id": "3754fdb3",
   "metadata": {},
   "outputs": [
    {
     "name": "stdout",
     "output_type": "stream",
     "text": [
      "Call value is $4.1 with SE +/- 0.39\n",
      "Elapsed time: 2.016176700592041 seconds\n"
     ]
    }
   ],
   "source": [
    "def delta_calc(r, S, K, T, sigma, type=\"c\"):\n",
    "    \"Calculate delta of an option\"\n",
    "    d1 = (np.log(S/K) + (r+sigma**2/2)*T)/(sigma*np.sqrt(T))\n",
    "    try: \n",
    "        if type == \"c\":\n",
    "            delta_calc = stats.norm.cdf(d1, 0, 1)\n",
    "        elif type == \"p\":\n",
    "            delta_calc = -stats.norm.cdf(-d1, 0, 1)\n",
    "        return delta_calc\n",
    "    except: \n",
    "        print(\"Please confirm option type, either 'c' for Call or 'p' for Put!\")\n",
    "        \n",
    "tic()\n",
    "# Precomputing constants \n",
    "N = 1\n",
    "dt = T/N\n",
    "nudt = (r - 0.5*vol**2)*dt\n",
    "volsdt = vol*np.sqrt(dt)\n",
    "\n",
    "erdt = np.exp(r*dt)\n",
    "cv = 0\n",
    "beta1 = -1\n",
    "\n",
    "# MC Method\n",
    "Z = np.random.normal(size=(N, M))\n",
    "delta_St = nudt + volsdt*Z\n",
    "ST = S*np.cumprod(np.exp(delta_St), axis=0)\n",
    "ST = np.concatenate((np.full(shape=(1,M), fill_value=S), ST))\n",
    "deltaSt = delta_calc(r, ST[:-1].T, K, np.linspace(T,0,N), vol, \"c\").T\n",
    "cv = np.cumsum(deltaSt*(ST[1:] - ST[:-1]*erdt), axis=0)\n",
    "\n",
    "CT = np.maximum(0, ST[-1] - K) + beta1*cv[-1]\n",
    "C0 = np.exp(-r*T)*np.sum(CT)/M\n",
    "\n",
    "sigma = np.sqrt(np.sum((np.exp(-r*T)*CT - C0)**2) / (M-1))\n",
    "sigma = np.std(np.exp(-r*T)*CT)\n",
    "SE = sigma/np.sqrt(M)\n",
    "\n",
    "print(\"Call value is ${0} with SE +/- {1}\".format(np.round(C0,2),np.round(SE,3)))\n",
    "time.sleep(2)\n",
    "toc()"
   ]
  },
  {
   "cell_type": "markdown",
   "id": "b566a8e8",
   "metadata": {},
   "source": [
    "### Comparison without Delta-based control variates "
   ]
  },
  {
   "cell_type": "code",
   "execution_count": 22,
   "id": "be7b5737",
   "metadata": {},
   "outputs": [
    {
     "name": "stdout",
     "output_type": "stream",
     "text": [
      "Call value is $6.12 with SE +/- 1.495\n",
      "Elapsed time: 2.0076801776885986 seconds\n"
     ]
    }
   ],
   "source": [
    "tic()\n",
    "# Precomputing constants\n",
    "N = 1\n",
    "dt = T/N\n",
    "nudt = (r - 0.5*vol**2)*dt\n",
    "volsdt = vol*np.sqrt(dt)\n",
    "\n",
    "# MC Method\n",
    "Z = np.random.normal(size=(N, M))\n",
    "delta_St = nudt + volsdt*Z\n",
    "ST = S*np.cumprod( np.exp(delta_St), axis=0)\n",
    "\n",
    "CTw = np.maximum(0, ST[-1] - K)\n",
    "C0w = np.exp(-r*T)*np.sum(CTw)/M\n",
    "\n",
    "sigma = np.sqrt( np.sum( (np.exp(-r*T)*CTw - C0w)**2) / (M-1) )\n",
    "SEw = sigma/np.sqrt(M)\n",
    "\n",
    "print(\"Call value is ${0} with SE +/- {1}\".format(np.round(C0w,2),np.round(SEw,3)))\n",
    "time.sleep(2)\n",
    "toc()"
   ]
  },
  {
   "cell_type": "markdown",
   "id": "2cd0b662",
   "metadata": {},
   "source": [
    "### Visualization of convergence"
   ]
  },
  {
   "cell_type": "code",
   "execution_count": 23,
   "id": "cc960a1a",
   "metadata": {},
   "outputs": [
    {
     "data": {
      "image/png": "[encoded data removed]",
      "text/plain": [
       "<Figure size 640x480 with 1 Axes>"
      ]
     },
     "metadata": {},
     "output_type": "display_data"
    }
   ],
   "source": [
    "x1 = np.linspace(C0-3*SE, C0-1*SE, 100)\n",
    "x2 = np.linspace(C0-1*SE, C0+1*SE, 100)\n",
    "x3 = np.linspace(C0+1*SE, C0+3*SE, 100)\n",
    "xw = np.linspace(C0w-3*SEw, C0w+3*SEw, 100)\n",
    "\n",
    "s1 = stats.norm.pdf(x1, C0, SE)\n",
    "s2 = stats.norm.pdf(x2, C0, SE)\n",
    "s3 = stats.norm.pdf(x3, C0, SE)\n",
    "sw = stats.norm.pdf(xw, C0w, SEw)\n",
    "\n",
    "plt.fill_between(x1, s1, color='tab:blue',label='> StDev')\n",
    "plt.fill_between(x2, s2, color='cornflowerblue',label='1 StDev')\n",
    "plt.fill_between(x3, s3, color='tab:blue')\n",
    "plt.plot(xw, sw, 'g-')\n",
    "plt.fill_between(xw, sw, alpha=0.2, color='tab:green', label='w/o Antithetic')\n",
    "\n",
    "plt.plot([C0,C0],[0, max(s2)*1.1], 'k',\n",
    "        label='Theoretical Value')\n",
    "plt.plot([C0w,C0w],[0, max(s2)*1.1], color='tab:green',\n",
    "        label='Value w/o Delta')\n",
    "plt.plot([market_value,market_value],[0, max(s2)*1.1], 'r',\n",
    "        label='Market Value')\n",
    "\n",
    "plt.ylabel(\"Probability\")\n",
    "plt.xlabel(\"Option Price\")\n",
    "plt.legend()\n",
    "plt.show()"
   ]
  }
 ],
 "metadata": {
  "kernelspec": {
   "display_name": "Python 3 (ipykernel)",
   "language": "python",
   "name": "python3"
  },
  "language_info": {
   "codemirror_mode": {
    "name": "ipython",
    "version": 3
   },
   "file_extension": ".py",
   "mimetype": "text/x-python",
   "name": "python",
   "nbconvert_exporter": "python",
   "pygments_lexer": "ipython3",
   "version": "3.11.7"
  }
 },
 "nbformat": 4,
 "nbformat_minor": 5
}
