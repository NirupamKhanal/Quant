{
 "cells": [
  {
   "cell_type": "markdown",
   "id": "bfac8665",
   "metadata": {},
   "source": [
    "Risk-neutral expectation pricing in continuous time: \n",
    "\n",
    "\\begin{align}\\frac{C_{t}}{B_{t}} = \\mathbb{E_{Q}}\\left[\\frac{C_{t}}{B_{t}}|F_{t}\\right]\\end{align}"
   ]
  },
  {
   "cell_type": "code",
   "execution_count": 1,
   "id": "10c65276",
   "metadata": {},
   "outputs": [],
   "source": [
    "import math\n",
    "import numpy as np\n",
    "import pandas as pd \n",
    "import datetime\n",
    "import scipy.stats as stats\n",
    "import matplotlib.pyplot as plt \n",
    "from pandas_datareader import data as pdr"
   ]
  },
  {
   "cell_type": "code",
   "execution_count": 6,
   "id": "97adb5f4",
   "metadata": {},
   "outputs": [],
   "source": [
    "import time\n",
    "\n",
    "def tic():\n",
    "    global start_time\n",
    "    start_time = time.time()\n",
    "\n",
    "def toc():\n",
    "    if 'start_time' in globals():\n",
    "        end_time = time.time()\n",
    "        elapsed_time = end_time - start_time\n",
    "        print(f\"Elapsed time: {elapsed_time} seconds\")\n",
    "    else:\n",
    "        print(\"Tic function has not been called yet.\")"
   ]
  },
  {
   "cell_type": "markdown",
   "id": "3d3cc11c",
   "metadata": {},
   "source": [
    "## Valuation by simulation \n",
    "\n",
    "value of an option = risk-neutral expectation of discounted payoff\n",
    "\n",
    "For a single simulation: $C_{0,i} = e^{-\\int_{0}^{T} r_{s} ds}C_{T,i} = e^{-rT}C_{T,i}$\n",
    "\n",
    "Average across $M$ simulation: $\\hat{C_{0}} = \\frac{1}{M} \\sum_{i=1}^{M} C_{0,i}$\n",
    "\n",
    "Standard error: $SE(\\hat{C_{0}}) = \\frac{\\sigma(C_{0,i})}{\\sqrt{M}}$, where $\\sigma(C_{0,i}) = \\sqrt{\\frac{1}{M-1}\\sum_{i=1}^{M}(C_{0,i}-\\hat{C_{0}})^{2}}$\n",
    "\n",
    "## European call option in a Black-Scholes World\n",
    "\n",
    "Geometric Brownian Motion: $dS_{t} = rS_{t}dt + \\sigma S_{t}dW_{t}$\n",
    "\n",
    "Let $X \\sim (x_{t} = \\ln{S_{t}}, \\sigma^{2})$, since $x_{t} = \\ln{S_{t}}$ is normally distributed. \n",
    "\n",
    "### Discretization of the stochastic differential equation (SDE)\n",
    "\n",
    "$dx_{t} = vdt + \\sigma dz_{t}, \\: v = r-\\frac{1}{2}\\sigma^{2}$\n",
    "\n",
    "$\\implies \\Delta x = v\\Delta t + \\sigma \\Delta z$\n",
    "\n",
    "$\\therefore x_{t+\\Delta t} = x_{t} + v\\Delta t + \\sigma(z_{t+\\Delta t} - z_{t})$\n",
    "\n",
    "### Application to stock prices\n",
    "\n",
    "$S_{t+\\Delta t} = S_{t} e^{v\\Delta t + \\sigma(z_{t+\\Delta t} - z_{t})}$, where $(z_{t+\\Delta t} - z{t}) \\sim N(0,\\Delta t) \\sim \\sqrt{\\Delta t}N(0,1)\\sim\\sqrt{\\Delta t}\\epsilon_{i}$"
   ]
  },
  {
   "cell_type": "code",
   "execution_count": 13,
   "id": "b5f28d52",
   "metadata": {},
   "outputs": [
    {
     "name": "stdout",
     "output_type": "stream",
     "text": [
      "0.25753424657534246\n"
     ]
    }
   ],
   "source": [
    "# Initializing derivative parameters \n",
    "S = 101.15 # stock price\n",
    "K = 98.01 # strike price \n",
    "vol = 0.0991 # volatility (%)\n",
    "r = 0.01 # risk-free rate (%)\n",
    "N = 10 # number of time steps \n",
    "M = 100 # number of simulations\n",
    "\n",
    "market_value = 3.86 # market price of option\n",
    "T = ((datetime.date(2025,1,7) - datetime.date.today()).days+1)/365 # time in years \n",
    "print(T)"
   ]
  },
  {
   "cell_type": "markdown",
   "id": "ecff5e6b",
   "metadata": {},
   "source": [
    "### Slow solution using steps"
   ]
  },
  {
   "cell_type": "code",
   "execution_count": 14,
   "id": "36530e0f",
   "metadata": {},
   "outputs": [
    {
     "name": "stdout",
     "output_type": "stream",
     "text": [
      "Call value is $3.82 with SE +/- 0.42\n",
      "Elapsed time: 2.0106072425842285 seconds\n"
     ]
    }
   ],
   "source": [
    "tic()\n",
    "# Precomputing constants \n",
    "dt = T/N\n",
    "nudt = (r - 0.5*vol**2)*dt\n",
    "volsdt = vol*np.sqrt(dt)\n",
    "lnS = np.log(S)\n",
    "\n",
    "# Standard Error parameters\n",
    "sum_CT = 0\n",
    "sum_CT2 = 0\n",
    "\n",
    "# MC method \n",
    "for i in range(M):\n",
    "    lnSt = lnS\n",
    "    for j in range(N):\n",
    "        lnSt = lnSt + nudt + volsdt*np.random.normal()\n",
    "        \n",
    "    ST = np.exp(lnSt)\n",
    "    CT = max(0, ST - K)\n",
    "    sum_CT += CT\n",
    "    sum_CT2 += CT**2\n",
    "    \n",
    "# Computing expectation and SE\n",
    "C0 = np.exp(-r*T)*sum_CT/M\n",
    "sigma = np.sqrt((sum_CT2 - sum_CT*sum_CT/M)*np.exp(-2*r*T) / (M-1))\n",
    "SE = sigma/np.sqrt(M)\n",
    "\n",
    "print(\"Call value is ${0} with SE +/- {1}\".format(np.round(C0,2),np.round(SE,2)))\n",
    "time.sleep(2)\n",
    "toc()"
   ]
  },
  {
   "cell_type": "markdown",
   "id": "3a0bb396",
   "metadata": {},
   "source": [
    "### Fast solution using vectorization "
   ]
  },
  {
   "cell_type": "code",
   "execution_count": 15,
   "id": "ee930723",
   "metadata": {},
   "outputs": [
    {
     "name": "stdout",
     "output_type": "stream",
     "text": [
      "Call value is $4.06 with SE +/- 0.4\n",
      "Elapsed time: 2.003498077392578 seconds\n"
     ]
    }
   ],
   "source": [
    "tic()\n",
    "# Precomputing constants \n",
    "dt = T/N\n",
    "nudt = (r - 0.5*vol**2)*dt\n",
    "volsdt = vol*np.sqrt(dt)\n",
    "lnS = np.log(S)\n",
    "\n",
    "# MC method \n",
    "Z = np.random.normal(size=(N,M))\n",
    "delta_lnSt = nudt + volsdt*Z\n",
    "lnSt = lnS + np.cumsum(delta_lnSt, axis=0)\n",
    "lnSt = np.concatenate((np.full(shape=(1,M), fill_value=lnS), lnSt))\n",
    "\n",
    "# Compute expectation and SE\n",
    "ST = np.exp(lnSt)\n",
    "CT = np.maximum(0, ST - K)\n",
    "C0 = np.exp(-r*T)*np.sum(CT[-1])/M\n",
    "\n",
    "sigma = np.sqrt(np.sum((CT[-1] - C0)**2) / (M-1))\n",
    "SE = sigma/np.sqrt(M)\n",
    "\n",
    "print(\"Call value is ${0} with SE +/- {1}\".format(np.round(C0,2),np.round(SE,2)))\n",
    "time.sleep(2)\n",
    "toc()"
   ]
  },
  {
   "cell_type": "markdown",
   "id": "e0c0f0d2",
   "metadata": {},
   "source": [
    "## Visualization of convergence"
   ]
  },
  {
   "cell_type": "code",
   "execution_count": 16,
   "id": "ea2e6778",
   "metadata": {},
   "outputs": [
    {
     "data": {
      "image/png": "[encoded data removed]",
      "text/plain": [
       "<Figure size 640x480 with 1 Axes>"
      ]
     },
     "metadata": {},
     "output_type": "display_data"
    }
   ],
   "source": [
    "x1 = np.linspace(C0-3*SE, C0-1*SE, 100)\n",
    "x2 = np.linspace(C0-1*SE, C0+1*SE, 100)\n",
    "x3 = np.linspace(C0+1*SE, C0+3*SE, 100)\n",
    "\n",
    "s1 = stats.norm.pdf(x1, C0, SE)\n",
    "s2 = stats.norm.pdf(x2, C0, SE)\n",
    "s3 = stats.norm.pdf(x3, C0, SE)\n",
    "\n",
    "plt.fill_between(x1, s1, color='tab:blue', label='> StDev')\n",
    "plt.fill_between(x2, s2, color='cornflowerblue', label='1 StDev')\n",
    "plt.fill_between(x3, s3, color='tab:blue', label='< StDev')\n",
    "\n",
    "plt.plot([C0, C0], [0, max(s2)*1.1], 'k', label='Theoretical value')\n",
    "plt.plot([market_value, market_value], [0, max(s2)*1.1], 'r', label='Market value')\n",
    "\n",
    "plt.ylabel(\"Probability\")\n",
    "plt.xlabel(\"Option Price\")\n",
    "plt.legend()\n",
    "plt.show()"
   ]
  }
 ],
 "metadata": {
  "kernelspec": {
   "display_name": "Python 3 (ipykernel)",
   "language": "python",
   "name": "python3"
  },
  "language_info": {
   "codemirror_mode": {
    "name": "ipython",
    "version": 3
   },
   "file_extension": ".py",
   "mimetype": "text/x-python",
   "name": "python",
   "nbconvert_exporter": "python",
   "pygments_lexer": "ipython3",
   "version": "3.11.7"
  }
 },
 "nbformat": 4,
 "nbformat_minor": 5
}
